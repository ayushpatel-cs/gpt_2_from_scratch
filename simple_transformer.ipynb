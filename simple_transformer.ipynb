{
 "cells": [
  {
   "cell_type": "code",
   "execution_count": 38,
   "id": "3c6fc5ed",
   "metadata": {},
   "outputs": [],
   "source": [
    "import torch\n",
    "import torch.nn as nn\n",
    "import torch.functional as F   \n",
    "import numpy as np     "
   ]
  },
  {
   "cell_type": "code",
   "execution_count": 7,
   "id": "f0731d0a",
   "metadata": {},
   "outputs": [],
   "source": [
    "with open('mini_shakespeare.txt') as file:\n",
    "    file_content = file.read()\n",
    "\n",
    "alphabet = sorted(list(set(file_content)))\n",
    "stoi = {char: i for i, char in enumerate(alphabet)}\n",
    "itos = {i: char for i, char in enumerate(alphabet)}\n",
    "encode = lambda x: [stoi[char] for char in x]\n",
    "decode = lambda x: [itos[encoded_char] for encoded_char in x]\n",
    "data = encode(file_content)\n",
    "cutoff = int(len(data)*0.9)\n",
    "train = data[:cutoff]\n",
    "val = data[cutoff:]\n"
   ]
  },
  {
   "cell_type": "code",
   "execution_count": 40,
   "id": "9ce7ee36",
   "metadata": {},
   "outputs": [],
   "source": [
    "vocab_size = len(alphabet)\n",
    "block_size = 8\n",
    "batch_size = 4\n",
    "embed_dim = 1\n",
    "head_size = 32"
   ]
  },
  {
   "cell_type": "code",
   "execution_count": null,
   "id": "6fd8f96d",
   "metadata": {},
   "outputs": [
    {
     "name": "stdout",
     "output_type": "stream",
     "text": [
      "tensor([[[0.0000, 1.4297, 1.4297],\n",
      "         [1.4297, 1.4297, 1.4297],\n",
      "         [1.4297, 1.4297, 1.4297]]], grad_fn=<CopySlices>)\n",
      "tensor([[[0.1069, 0.4466, 0.4466],\n",
      "         [0.3333, 0.3333, 0.3333],\n",
      "         [0.3333, 0.3333, 0.3333]]], grad_fn=<SoftmaxBackward0>)\n"
     ]
    }
   ],
   "source": [
    "class AttentionHead(nn.Module):\n",
    "    def __init__(self):\n",
    "        super().__init__()\n",
    "        self.queries = nn.Linear(embed_dim, head_size, bias = False)\n",
    "        self.keys = nn.Linear(embed_dim, head_size, bias = False)\n",
    "        self.values = nn.Linear(embed_dim, head_size, bias = False)\n",
    "    def forward(self, x):\n",
    "        q = self.queries(x) ## (B, T, 32)\n",
    "        k = self.keys(x).transpose(1,2) ## (B, 32, T)\n",
    "        trans = q @ k /np.sqrt(embed_dim) ## (B, T, T)  \n",
    "        trans[0, 0,0] =0\n",
    "        softmax = torch.softmax(trans, dim=2)\n",
    "        return q, k\n",
    "    \n",
    "m = AttentionHead()\n",
    "x = m(torch.ones((1,3,1), dtype=torch.float))\n"
   ]
  },
  {
   "cell_type": "code",
   "execution_count": 24,
   "id": "c6bbb023",
   "metadata": {},
   "outputs": [
    {
     "data": {
      "text/plain": [
       "tensor([[0., 0., 0.]])"
      ]
     },
     "execution_count": 24,
     "metadata": {},
     "output_type": "execute_result"
    }
   ],
   "source": [
    "torch.zeros((1,3), dtype=torch.float)"
   ]
  },
  {
   "cell_type": "code",
   "execution_count": null,
   "id": "8fb3f085",
   "metadata": {},
   "outputs": [],
   "source": []
  }
 ],
 "metadata": {
  "kernelspec": {
   "display_name": "ml_hw4",
   "language": "python",
   "name": "python3"
  },
  "language_info": {
   "codemirror_mode": {
    "name": "ipython",
    "version": 3
   },
   "file_extension": ".py",
   "mimetype": "text/x-python",
   "name": "python",
   "nbconvert_exporter": "python",
   "pygments_lexer": "ipython3",
   "version": "3.11.10"
  }
 },
 "nbformat": 4,
 "nbformat_minor": 5
}
