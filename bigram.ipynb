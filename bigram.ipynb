{
 "cells": [
  {
   "cell_type": "code",
   "execution_count": 88,
   "id": "0a250036",
   "metadata": {},
   "outputs": [],
   "source": [
    "import torch \n",
    "\n",
    "with open('mini_shakespeare.txt', 'r', encoding='utf-8') as file:\n",
    "    file_content = file.read()\n",
    "\n",
    "alphabet = sorted(list(set(file_content)))\n",
    "\n",
    "stoi = {char: i for i,char in enumerate(alphabet)}\n",
    "itos = {i:char for i, char in enumerate(alphabet)}\n",
    "\n",
    "encode = lambda text: [stoi[char] for char in text]\n",
    "decode = lambda encoded_text: [itos[char] for char in encoded_text]\n",
    "\n",
    "encoded_data = torch.tensor(encode(file_content), dtype=torch.long)\n",
    "cutoff = int(len(encoded_data)*0.9)\n",
    "train = encoded_data[:cutoff]\n",
    "val = encoded_data[cutoff:]"
   ]
  },
  {
   "cell_type": "code",
   "execution_count": 89,
   "id": "7d9fe432",
   "metadata": {},
   "outputs": [
    {
     "data": {
      "text/plain": [
       "(tensor([[24, 43, 58,  5, 57,  1, 46, 43],\n",
       "         [44, 53, 56,  1, 58, 46, 39, 58],\n",
       "         [52, 58,  1, 58, 46, 39, 58,  1],\n",
       "         [25, 17, 27, 10,  0, 21,  1, 54]]),\n",
       " tensor([[43, 58,  5, 57,  1, 46, 43, 39],\n",
       "         [53, 56,  1, 58, 46, 39, 58,  1],\n",
       "         [58,  1, 58, 46, 39, 58,  1, 46],\n",
       "         [17, 27, 10,  0, 21,  1, 54, 39]]))"
      ]
     },
     "execution_count": 89,
     "metadata": {},
     "output_type": "execute_result"
    }
   ],
   "source": [
    "torch.manual_seed(1337)    \n",
    "block_size = 8\n",
    "batch_size = 4\n",
    "\n",
    "def get_batch(split):\n",
    "    data = train if split == \"train\" else val\n",
    "    batch_indicies = torch.randint(len(data) - block_size, (batch_size,1))\n",
    "    x = torch.stack([data[i:i+block_size] for i in batch_indicies])\n",
    "    y = torch.stack([data[i+1:i+block_size+1] for i in batch_indicies]) \n",
    "    return x, y\n",
    "\n",
    "x, y = get_batch('train')\n",
    "x,y"
   ]
  },
  {
   "cell_type": "code",
   "execution_count": 95,
   "id": "4def51b3",
   "metadata": {},
   "outputs": [
    {
     "name": "stdout",
     "output_type": "stream",
     "text": [
      "\n",
      "SKIcLT;AcELMoTbvZv C?nq-QE33:CJqkOKH-q;:la!oiywkHjgChzbQ?u!3bLIgwevmyFJGUGp\n",
      "wnYWmnxKWWev-tDqXErVKLgJ\n"
     ]
    }
   ],
   "source": [
    "import torch.nn as nn\n",
    "import torch.nn.functional as F\n",
    "torch.manual_seed(1337)    \n",
    "class BigramLanguageModel(nn.Module):\n",
    "    def __init__(self, vocab_size):\n",
    "        super().__init__()\n",
    "        self.token_embeding_table = nn.Embedding(vocab_size, vocab_size)\n",
    "\n",
    "    def forward(self, x, y=None):\n",
    "        ## gets the logits and loss\n",
    "        ## inference\n",
    "        logits = self.token_embeding_table(x) ## (batch, block, vocab_size)\n",
    "        loss = None\n",
    "        ## loss\n",
    "        if y != None:\n",
    "           B, T, C = logits.shape\n",
    "           changed_view = logits.view(B*T, C) \n",
    "           y = y.view(B*T)\n",
    "           loss = F.cross_entropy(changed_view, y)\n",
    "\n",
    "        return logits, loss\n",
    "    \n",
    "    def generate(self, context, max_new_tokens =100):\n",
    "\n",
    "        for i in range(max_new_tokens):\n",
    "            logits, _ = self(context) ## (B, T, C)\n",
    "            logits = logits[:, -1, :] ## (B, C) last token\n",
    "            probs = F.softmax(logits, dim=1)\n",
    "            next_token = torch.multinomial(probs, num_samples=1) # gets next token\n",
    "            context = torch.concat((context, next_token), dim=1)\n",
    "\n",
    "        return  context\n",
    "\n",
    "\n",
    "\n",
    "    \n",
    "model = BigramLanguageModel(len(alphabet))\n",
    "logits, loss = model(x,y)\n",
    "print(\"\".join(decode(model.generate(torch.zeros((1,1), dtype=torch.long))[0].tolist())))"
   ]
  },
  {
   "cell_type": "code",
   "execution_count": 101,
   "id": "b7929e00",
   "metadata": {},
   "outputs": [
    {
     "name": "stdout",
     "output_type": "stream",
     "text": [
      "tensor(2.3311, grad_fn=<NllLossBackward0>)\n"
     ]
    }
   ],
   "source": [
    "optimizer = torch.optim.AdamW(model.parameters(), lr=1e-3)\n",
    "batch_size = 32\n",
    "\n",
    "for i in range(10000):\n",
    "    x,y = get_batch(train)\n",
    "    logits, loss = model(x,y)\n",
    "    optimizer.zero_grad(set_to_none=True)\n",
    "    loss.backward()\n",
    "    optimizer.step()\n",
    "\n",
    "print(loss)"
   ]
  },
  {
   "cell_type": "code",
   "execution_count": 105,
   "id": "c4015dc0",
   "metadata": {},
   "outputs": [
    {
     "name": "stdout",
     "output_type": "stream",
     "text": [
      "\n",
      "LL:\n",
      "Fanese br,\n",
      "\n",
      "'s:\n",
      "\n",
      "\n",
      "\n",
      "A:\n",
      "cape lave IO:\n",
      "Wif thourant\n",
      "O:\n",
      "MIfo cown ame?\n",
      "RIfith'ios! co werendenke g a\n"
     ]
    }
   ],
   "source": [
    "print(\"\".join(decode(model.generate(torch.zeros((1,1), dtype=torch.long))[0].tolist())))"
   ]
  },
  {
   "cell_type": "code",
   "execution_count": null,
   "id": "95a31fef",
   "metadata": {},
   "outputs": [],
   "source": []
  }
 ],
 "metadata": {
  "kernelspec": {
   "display_name": "ml_hw4",
   "language": "python",
   "name": "python3"
  },
  "language_info": {
   "codemirror_mode": {
    "name": "ipython",
    "version": 3
   },
   "file_extension": ".py",
   "mimetype": "text/x-python",
   "name": "python",
   "nbconvert_exporter": "python",
   "pygments_lexer": "ipython3",
   "version": "3.11.10"
  }
 },
 "nbformat": 4,
 "nbformat_minor": 5
}
